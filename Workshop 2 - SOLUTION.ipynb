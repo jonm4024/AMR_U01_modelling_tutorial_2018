{
 "cells": [
  {
   "cell_type": "markdown",
   "metadata": {},
   "source": [
    "# Objective: Reconstruct Glycolysis in <i>E. coli</i>"
   ]
  },
  {
   "cell_type": "markdown",
   "metadata": {},
   "source": [
    "### Import COBRApy Toolbox:"
   ]
  },
  {
   "cell_type": "code",
   "execution_count": 1,
   "metadata": {},
   "outputs": [
    {
     "name": "stdout",
     "output_type": "stream",
     "text": [
      "0.13.3\n"
     ]
    }
   ],
   "source": [
    "import cobra\n",
    "print (cobra.__version__)"
   ]
  },
  {
   "cell_type": "markdown",
   "metadata": {},
   "source": [
    "### Define Metabolites:"
   ]
  },
  {
   "cell_type": "code",
   "execution_count": 2,
   "metadata": {},
   "outputs": [],
   "source": [
    "from cobra import Metabolite "
   ]
  },
  {
   "cell_type": "code",
   "execution_count": 3,
   "metadata": {},
   "outputs": [],
   "source": [
    "# Example: D-Glucose\n",
    "glc_c = Metabolite('glc-D_c')\n",
    "glc_c.name = 'D-Glucose'\n",
    "glc_c.formula = 'C6H12O6'\n",
    "glc_c.charge=0\n",
    "glc_c.compartment = 'c'"
   ]
  },
  {
   "cell_type": "code",
   "execution_count": 4,
   "metadata": {},
   "outputs": [
    {
     "name": "stdout",
     "output_type": "stream",
     "text": [
      "('D-Glucose', 'C6H12O6', 0, 180.15588)\n"
     ]
    }
   ],
   "source": [
    "print(glc_c.name, glc_c.formula, glc_c.charge, glc_c.formula_weight)"
   ]
  },
  {
   "cell_type": "code",
   "execution_count": 5,
   "metadata": {},
   "outputs": [],
   "source": [
    "# D-Glucose 6-phosphate\n",
    "g6p_c = Metabolite('g6p_c')\n",
    "g6p_c.name = 'D-Glucose 6-phosphate'\n",
    "g6p_c.formula = 'C6H11O9P'\n",
    "g6p_c.charge=-2\n",
    "g6p_c.compartment = 'c'"
   ]
  },
  {
   "cell_type": "code",
   "execution_count": 6,
   "metadata": {},
   "outputs": [
    {
     "name": "stdout",
     "output_type": "stream",
     "text": [
      "('D-Glucose 6-phosphate', 'C6H11O9P', -2, 258.119901)\n"
     ]
    }
   ],
   "source": [
    "print(g6p_c.name, g6p_c.formula, g6p_c.charge, g6p_c.formula_weight)"
   ]
  },
  {
   "cell_type": "code",
   "execution_count": 7,
   "metadata": {},
   "outputs": [],
   "source": [
    "# D-fructose 6-phosphate\n",
    "f6p_c = Metabolite('f6p_c')\n",
    "f6p_c.name = 'D-Fructose 6-phosphate'\n",
    "f6p_c.formula = 'C6H11O9P'\n",
    "f6p_c.charge=-2\n",
    "f6p_c.compartment = 'c'"
   ]
  },
  {
   "cell_type": "code",
   "execution_count": 8,
   "metadata": {},
   "outputs": [
    {
     "name": "stdout",
     "output_type": "stream",
     "text": [
      "('D-Fructose 6-phosphate', 'C6H11O9P', -2, 258.119901)\n"
     ]
    }
   ],
   "source": [
    "print(f6p_c.name, f6p_c.formula, f6p_c.charge, f6p_c.formula_weight)"
   ]
  },
  {
   "cell_type": "code",
   "execution_count": 9,
   "metadata": {},
   "outputs": [],
   "source": [
    "# Add the remaining metabolites below:"
   ]
  },
  {
   "cell_type": "code",
   "execution_count": 10,
   "metadata": {},
   "outputs": [],
   "source": [
    "# SOLUTION:\n",
    "\n",
    "# D-fructose\n",
    "fru_c = Metabolite('fru_c')\n",
    "fru_c.name = 'D-Fructose'\n",
    "fru_c.formula = 'C6H12O6'\n",
    "fru_c.charge=0\n",
    "fru_c.compartment = 'c'\n",
    "\n",
    "# D-fructose 1,6-bisphosphate\n",
    "fdp_c = Metabolite('fdp_c')\n",
    "fdp_c.name = 'D-fructose 1,6-bisphosphate'\n",
    "fdp_c.formula = 'C6H10O12P2'\n",
    "fdp_c.charge=-4\n",
    "fdp_c.compartment = 'c'\n",
    "\n",
    "# Dihydroxyacetone phosphate\n",
    "dhap_c = Metabolite('dhap_c')\n",
    "dhap_c.name = 'Dihydroxyacetone phosphate'\n",
    "dhap_c.formula = 'C3H5O6P'\n",
    "dhap_c.charge=-2\n",
    "dhap_c.compartment = 'c'\n",
    "\n",
    "# Glyceraldehyde 3-phosphate\n",
    "g3p_c = Metabolite('g3p_c')\n",
    "g3p_c.name = 'Glyceraldehyde 3-phosphate'\n",
    "g3p_c.formula = 'C3H5O6P'\n",
    "g3p_c.charge=-2\n",
    "g3p_c.compartment = 'c'\n",
    "\n",
    "# 3-Phospho-D-glyceroyl-phosphate\n",
    "dpg13_c = Metabolite('13dpg_c')\n",
    "dpg13_c.name = '3-Phospho-D-glycerate'\n",
    "dpg13_c.formula = 'C3H4O10P2'\n",
    "dpg13_c.charge=-4\n",
    "dpg13_c.compartment = 'c'\n",
    "\n",
    "# 3-Phospho-D-glycerate\n",
    "threepg_c = Metabolite('3pg_c')\n",
    "threepg_c.name = '3-Phospho-D-glycerate'\n",
    "threepg_c.formula = 'C3H4O7P'\n",
    "threepg_c.charge=-3\n",
    "threepg_c.compartment = 'c'\n",
    "\n",
    "# 2-Glycerate-2-phosphate\n",
    "twopg_c = Metabolite('2pg_c')\n",
    "twopg_c.name = '2-Glycerate-2-phosphate'\n",
    "twopg_c.formula = 'C3H4O7P'\n",
    "twopg_c.charge=-3\n",
    "twopg_c.compartment = 'c'\n",
    "\n",
    "# Phosphoenolpyruvate\n",
    "pep_c = Metabolite('pep_c')\n",
    "pep_c.name = 'Phosphoenolpyruvate'\n",
    "pep_c.formula = 'C3H2O6P'\n",
    "pep_c.charge=-3\n",
    "pep_c.compartment = 'c'\n",
    "\n",
    "# Pyruvate\n",
    "pyr_c = Metabolite('pyr_c')\n",
    "pyr_c.name = 'Pyruvate'\n",
    "pyr_c.formula = 'C3H3O3'\n",
    "pyr_c.charge=-1\n",
    "pyr_c.compartment = 'c'\n",
    "\n",
    "# H+\n",
    "h_c = Metabolite('h_c')\n",
    "h_c.name = 'H+'\n",
    "h_c.formula = 'H'\n",
    "h_c.charge=1\n",
    "h_c.compartment = 'c'\n",
    "\n",
    "# H2O\n",
    "h2o_c = Metabolite('h2o_c')\n",
    "h2o_c.name = 'H2O'\n",
    "h2o_c.formula = 'H2O'\n",
    "h2o_c.charge=0\n",
    "h2o_c.compartment = 'c'\n",
    "\n",
    "# AMP\n",
    "amp_c = Metabolite('amp_c')\n",
    "amp_c.name = 'Adenosine monophosphate'\n",
    "amp_c.formula = 'C10H12N5O7P'\n",
    "amp_c.charge=-2\n",
    "amp_c.compartment = 'c'\n",
    "\n",
    "# ADP\n",
    "adp_c = Metabolite('adp_c')\n",
    "adp_c.name = 'Adenosine diphosphate'\n",
    "adp_c.formula = 'C10H12N5O10P2'\n",
    "adp_c.charge=-3\n",
    "adp_c.compartment = 'c'\n",
    "\n",
    "#ATP\n",
    "atp_c = Metabolite('atp_c')\n",
    "atp_c.name = 'Adenosine triphosphate'\n",
    "atp_c.formula = 'C10H12N5O13P3'\n",
    "atp_c.charge=-4\n",
    "atp_c.compartment = 'c'\n",
    "\n",
    "# Phosphate\n",
    "pi_c = Metabolite('pi_c')\n",
    "pi_c.name = 'Phosphate'\n",
    "pi_c.formula = 'HO4P'\n",
    "pi_c.charge=-2\n",
    "pi_c.compartment = 'c'\n",
    "\n",
    "# NAD\n",
    "nad_c = Metabolite('nad_c')\n",
    "nad_c.name = 'Nicotinamide adenine dinucleotide (NAD+)'\n",
    "nad_c.formula = 'C21H26N7O14P2'\n",
    "nad_c.charge=-1\n",
    "nad_c.compartment = 'c'\n",
    "\n",
    "# NADH\n",
    "nadh_c = Metabolite('nadh_c')\n",
    "nadh_c.name = 'Nicotinamide adenine dinucleotide-reduced'\n",
    "nadh_c.formula = 'C21H27N7O14P2'\n",
    "nadh_c.charge=-2\n",
    "nadh_c.compartment = 'c'\n",
    "\n",
    "# Example: D-Glucose (external)\n",
    "glc_e = Metabolite('glc-D_e')\n",
    "glc_e.name = 'D-Glucose'\n",
    "glc_e.formula = 'C6H12O6'\n",
    "glc_e.charge=0\n",
    "glc_e.compartment = 'e'\n",
    "\n",
    "# D-fructose (external)\n",
    "fru_e = Metabolite('fru_e')\n",
    "fru_e.name = 'D-Fructose'\n",
    "fru_e.formula = 'C6H12O6'\n",
    "fru_e.charge=0\n",
    "fru_e.compartment = 'e'"
   ]
  },
  {
   "cell_type": "markdown",
   "metadata": {},
   "source": [
    "### Define Reactions:"
   ]
  },
  {
   "cell_type": "code",
   "execution_count": 11,
   "metadata": {},
   "outputs": [],
   "source": [
    "from cobra import Reaction"
   ]
  },
  {
   "cell_type": "code",
   "execution_count": 12,
   "metadata": {
    "scrolled": true
   },
   "outputs": [],
   "source": [
    "# Example: Glucose-6-phosphate isomerase\n",
    "PGI = Reaction('PGI')\n",
    "PGI.name = 'Glucose-6-phosphate isomerase'\n",
    "PGI.add_metabolites({g6p_c:-1,f6p_c:1})\n",
    "# PGI is reversible, so we need to set the lower_bound to -1000\n",
    "PGI.lower_bound=-1000"
   ]
  },
  {
   "cell_type": "code",
   "execution_count": 13,
   "metadata": {},
   "outputs": [
    {
     "name": "stdout",
     "output_type": "stream",
     "text": [
      "('PGI', 'Glucose-6-phosphate isomerase', 'g6p_c <=> f6p_c')\n"
     ]
    }
   ],
   "source": [
    "print (PGI.id, PGI.name, PGI.reaction)"
   ]
  },
  {
   "cell_type": "code",
   "execution_count": 14,
   "metadata": {},
   "outputs": [],
   "source": [
    "#Add the remaining reactions below:"
   ]
  },
  {
   "cell_type": "code",
   "execution_count": 15,
   "metadata": {},
   "outputs": [],
   "source": [
    "# SOLUTION:\n",
    "\n",
    "# Phosphofructokinase\n",
    "PFK = Reaction('PFK')\n",
    "PFK.name = 'Phosphofructokinase'\n",
    "PFK.add_metabolites({atp_c:-1,\n",
    "                     f6p_c:-1,\n",
    "                    adp_c:1,\n",
    "                    fdp_c:1,\n",
    "                    h_c:1})\n",
    "\n",
    "# Fructose-bisphosphatase\n",
    "FBP = Reaction('FBP')\n",
    "FBP.name = 'Fructose-bisphosphatase'\n",
    "FBP.add_metabolites({fdp_c:-1,\n",
    "                     h2o_c:-1,\n",
    "                    f6p_c:1,\n",
    "                    pi_c:1})\n",
    "\n",
    "# Fructose-bisphosphate aldolase\n",
    "FBA = Reaction('FBA')\n",
    "FBA.name = 'Fructose-bisphosphate aldolase'\n",
    "FBA.add_metabolites({fdp_c:-1,\n",
    "                     dhap_c:1,\n",
    "                    g3p_c:1})\n",
    "FBA.lower_bound=-1000\n",
    "\n",
    "# Triose-phosphate isomerase\n",
    "TPI = Reaction('TPI')\n",
    "TPI.name = 'Triose-phosphate isomerase'\n",
    "TPI.add_metabolites({dhap_c:-1,g3p_c:1})\n",
    "TPI.lower_bound=-1000\n",
    "\n",
    "# Glyceraldehyde-3-phosphate dehydrogenase\n",
    "GAPD = Reaction('GAPD')\n",
    "GAPD.name = 'Glyceraldehyde-3-phosphate dehydrogenase'\n",
    "GAPD.add_metabolites({g3p_c:-1,\n",
    "                      nad_c:-1,\n",
    "                     pi_c:-1,\n",
    "                     dpg13_c:1,\n",
    "                     h_c:1,\n",
    "                     nadh_c:1})\n",
    "GAPD.lower_bound=-1000\n",
    "\n",
    "# Phosphoglycerate kinase\n",
    "PGK = Reaction('PGK')\n",
    "PGK.name = 'Phosphoglycerate kinase'\n",
    "PGK.add_metabolites({threepg_c:-1,\n",
    "                     atp_c:-1,\n",
    "                    dpg13_c:1,\n",
    "                    adp_c:1})\n",
    "\n",
    "# Phosphoglycerate mutase\n",
    "PGM = Reaction('PGM')\n",
    "PGM.name = 'Phosphoglycerate mutase'\n",
    "PGM.add_metabolites({twopg_c:-1,threepg_c:1})\n",
    "\n",
    "# Enolase\n",
    "ENO = Reaction('ENO')\n",
    "ENO.name = 'Enolase'\n",
    "ENO.add_metabolites({twopg_c:-1,\n",
    "                     h2o_c:1,\n",
    "                    pep_c:1})\n",
    "ENO.lower_bound=-1000\n",
    "\n",
    "# Pyruvate kinase\n",
    "PYK = Reaction('PYK')\n",
    "PYK.name = 'Pyruvate kinase'\n",
    "PYK.add_metabolites({adp_c:-1,\n",
    "                     h_c:-1,\n",
    "                    pep_c:-1,\n",
    "                    atp_c:1,\n",
    "                    pyr_c:1})\n",
    "\n",
    "# Phosphoenolpyruvate synthase\n",
    "PPS = Reaction('PPS')\n",
    "PPS.name = 'Phosphoenolpyruvate synthase'\n",
    "PPS.add_metabolites({atp_c:-1,\n",
    "                     h2o_c:-1,\n",
    "                    pyr_c:-1,\n",
    "                    amp_c:1,\n",
    "                    h_c:2,\n",
    "                    pep_c:1,\n",
    "                    pi_c:1})\n",
    "\n",
    "# D-Glucose transport via PEP:Pyr PTS\n",
    "GLCpts = Reaction('GLCpts')\n",
    "GLCpts.name = 'D-Glucose transport via PEP:Pyr PTS'\n",
    "GLCpts.add_metabolites({glc_e:-1,\n",
    "                        pep_c:-1,\n",
    "                       g6p_c:1,\n",
    "                       pyr_c:1})\n",
    "\n",
    "\n",
    "# Fructose transport via PEP:Pyr PTS (f6p generating)\n",
    "FRUpts2 = Reaction('FRUpts2')\n",
    "FRUpts2.name = 'Fructose transport via PEP:Pyr PTS (f6p generating)'\n",
    "FRUpts2.add_metabolites({fru_e:-1,\n",
    "                         pep_c:-1,\n",
    "                        f6p_c:1,\n",
    "                        pyr_c:1})         \n",
    "        \n"
   ]
  },
  {
   "cell_type": "markdown",
   "metadata": {},
   "source": [
    "### Define GPRs:"
   ]
  },
  {
   "cell_type": "code",
   "execution_count": 16,
   "metadata": {},
   "outputs": [
    {
     "name": "stdout",
     "output_type": "stream",
     "text": [
      "b4025\n"
     ]
    }
   ],
   "source": [
    "# Example PGI is catalyzed by Glucose-6-phosphate isomerase (EC:5.3.1.9) encoded for by b4025\n",
    "PGI.gene_reaction_rule = 'b4025'\n",
    "print(PGI.gene_reaction_rule)"
   ]
  },
  {
   "cell_type": "code",
   "execution_count": 17,
   "metadata": {},
   "outputs": [],
   "source": [
    "# Add the remaining GPRs below:\n",
    "# TIP represent isozymes as: (Gene1 or Gene2), represent complexes as: (Gene1 and Gene2)"
   ]
  },
  {
   "cell_type": "code",
   "execution_count": 18,
   "metadata": {},
   "outputs": [],
   "source": [
    "# SOLUTION\n",
    "ENO.gene_reaction_rule = 'b2779'\n",
    "FBA.gene_reaction_rule =  'b2097 or b1773 or b2925'\n",
    "FBP.gene_reaction_rule =  'b3925 or b4232'\n",
    "GAPD.gene_reaction_rule =  'b1779'\n",
    "#PDH.gene_reaction_rule =  'b0114 and b0115 and b0116'\n",
    "PFK.gene_reaction_rule =  'b3916 or b1723'\n",
    "PGK.gene_reaction_rule =  'b2926'\n",
    "PGM.gene_reaction_rule =  'b3612 or b4395 or b0755'\n",
    "PPS.gene_reaction_rule =  'b1702'\n",
    "PYK.gene_reaction_rule =  'b1854 or b1676'\n",
    "TPI.gene_reaction_rule =  'b3919'\n",
    "FRUpts2.gene_reaction_rule = 'b1817 and b1818 and b1819 and b2415 and b2416'\n",
    "GLCpts.gene_reaction_rule = '(b2417 and b1101 and b2415 and b2416) or (b1817 and b1818 and b1819 and b2415 and b2416) or (b2417 and b1621 and b2415 and b2416)'"
   ]
  },
  {
   "cell_type": "markdown",
   "metadata": {},
   "source": [
    "### Add completed reactions to a COBRA model"
   ]
  },
  {
   "cell_type": "code",
   "execution_count": 19,
   "metadata": {},
   "outputs": [],
   "source": [
    "from cobra import Model\n",
    "\n",
    "# First create a new model\n",
    "model = Model('Glycolysis')\n",
    "model.name = 'Model of Glycolysis in E. coli'"
   ]
  },
  {
   "cell_type": "code",
   "execution_count": 20,
   "metadata": {},
   "outputs": [],
   "source": [
    "# add PGI to our glycolysis model:\n",
    "model.add_reaction(PGI)\n",
    "\n",
    "# Note all metabolites and genes associated with the reactions are added as well"
   ]
  },
  {
   "cell_type": "code",
   "execution_count": 21,
   "metadata": {},
   "outputs": [],
   "source": [
    "# Add all reactions to the model..."
   ]
  },
  {
   "cell_type": "code",
   "execution_count": 22,
   "metadata": {},
   "outputs": [],
   "source": [
    "# SOLUTION:\n",
    "\n",
    "rxns = [PFK, FBP, FBA, TPI, GAPD, PGK, PGM, ENO, PYK, PPS, GLCpts, FRUpts2]\n",
    "model.add_reactions(rxns)"
   ]
  },
  {
   "cell_type": "code",
   "execution_count": 23,
   "metadata": {},
   "outputs": [
    {
     "name": "stdout",
     "output_type": "stream",
     "text": [
      "('PGI', 'b4025')\n",
      "('PFK', 'b3916 or b1723')\n",
      "('FBP', 'b3925 or b4232')\n",
      "('FBA', 'b2097 or b1773 or b2925')\n",
      "('TPI', 'b3919')\n",
      "('GAPD', 'b1779')\n",
      "('PGK', 'b2926')\n",
      "('PGM', 'b3612 or b4395 or b0755')\n",
      "('ENO', 'b2779')\n",
      "('PYK', 'b1854 or b1676')\n",
      "('PPS', 'b1702')\n",
      "('GLCpts', '(b2417 and b1101 and b2415 and b2416) or (b1817 and b1818 and b1819 and b2415 and b2416) or (b2417 and b1621 and b2415 and b2416)')\n",
      "('FRUpts2', 'b1817 and b1818 and b1819 and b2415 and b2416')\n"
     ]
    }
   ],
   "source": [
    "for r in model.reactions:\n",
    "    print(r.id, r.gene_reaction_rule)\n",
    "# maybe remove PTS?"
   ]
  },
  {
   "cell_type": "markdown",
   "metadata": {},
   "source": [
    "### Model validation"
   ]
  },
  {
   "cell_type": "code",
   "execution_count": 24,
   "metadata": {},
   "outputs": [
    {
     "name": "stdout",
     "output_type": "stream",
     "text": [
      "Model of Glycolysis in E. coli\n",
      "# Metabolites: 20, # Reactions: 13, # Genes: 26\n"
     ]
    }
   ],
   "source": [
    "# Check out model statistics\n",
    "print (model.name)\n",
    "print(('# Metabolites: %i, # Reactions: %i, # Genes: %i')%(len(model.metabolites), len(model.reactions), len(model.genes)))"
   ]
  },
  {
   "cell_type": "code",
   "execution_count": 25,
   "metadata": {},
   "outputs": [
    {
     "name": "stdout",
     "output_type": "stream",
     "text": [
      "(<Reaction PGI at 0x5034710>, {})\n",
      "(<Reaction PFK at 0xcd23978>, {})\n",
      "(<Reaction FBP at 0xcd23208>, {})\n",
      "(<Reaction FBA at 0xcd23860>, {})\n",
      "(<Reaction TPI at 0xcd34978>, {})\n",
      "(<Reaction GAPD at 0xcd349b0>, {})\n",
      "(<Reaction PGK at 0xcd34908>, {})\n",
      "(<Reaction PGM at 0xcd34940>, {})\n",
      "(<Reaction ENO at 0xcd34a58>, {})\n",
      "(<Reaction PYK at 0xcd34a90>, {})\n",
      "(<Reaction PPS at 0xcd34a20>, {})\n",
      "(<Reaction GLCpts at 0xcd34b38>, {})\n",
      "(<Reaction FRUpts2 at 0xcd34b70>, {})\n"
     ]
    }
   ],
   "source": [
    "# check that all reactions in the model are mass balanced:\n",
    "for r in model.reactions:\n",
    "    print (r, r.check_mass_balance())\n",
    "    if len(r.check_mass_balance())>0:\n",
    "        print ('\\terror %s is not mass balanced!'%r.id)"
   ]
  },
  {
   "cell_type": "markdown",
   "metadata": {},
   "source": [
    "### Save your model"
   ]
  },
  {
   "cell_type": "code",
   "execution_count": 26,
   "metadata": {},
   "outputs": [],
   "source": [
    "from cobra.io import save_json_model"
   ]
  },
  {
   "cell_type": "code",
   "execution_count": 27,
   "metadata": {},
   "outputs": [],
   "source": [
    "save_json_model(model,'glycolysis.json')"
   ]
  }
 ],
 "metadata": {
  "anaconda-cloud": {},
  "kernelspec": {
   "display_name": "Python 2",
   "language": "python",
   "name": "python2"
  },
  "language_info": {
   "codemirror_mode": {
    "name": "ipython",
    "version": 2
   },
   "file_extension": ".py",
   "mimetype": "text/x-python",
   "name": "python",
   "nbconvert_exporter": "python",
   "pygments_lexer": "ipython2",
   "version": "2.7.15"
  }
 },
 "nbformat": 4,
 "nbformat_minor": 1
}
