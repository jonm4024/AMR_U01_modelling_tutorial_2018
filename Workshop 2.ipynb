{
 "cells": [
  {
   "cell_type": "markdown",
   "metadata": {},
   "source": [
    "# Objective: Reconstruct Glycolysis in <i>E. coli</i>"
   ]
  },
  {
   "cell_type": "markdown",
   "metadata": {},
   "source": [
    "### Import COBRApy Toolbox:"
   ]
  },
  {
   "cell_type": "code",
   "execution_count": 1,
   "metadata": {},
   "outputs": [
    {
     "name": "stdout",
     "output_type": "stream",
     "text": [
      "0.13.3\n"
     ]
    }
   ],
   "source": [
    "import cobra\n",
    "print (cobra.__version__)"
   ]
  },
  {
   "cell_type": "markdown",
   "metadata": {},
   "source": [
    "### Define Metabolites:"
   ]
  },
  {
   "cell_type": "code",
   "execution_count": 2,
   "metadata": {},
   "outputs": [],
   "source": [
    "from cobra import Metabolite "
   ]
  },
  {
   "cell_type": "code",
   "execution_count": 3,
   "metadata": {},
   "outputs": [],
   "source": [
    "# Example: D-Glucose\n",
    "glc_c = Metabolite('glc-D_c')\n",
    "glc_c.name = 'D-Glucose'\n",
    "glc_c.formula = 'C6H12O6'\n",
    "glc_c.charge=0\n",
    "glc_c.compartment = 'c'"
   ]
  },
  {
   "cell_type": "code",
   "execution_count": 4,
   "metadata": {},
   "outputs": [
    {
     "name": "stdout",
     "output_type": "stream",
     "text": [
      "('D-Glucose', 'C6H12O6', 0, 180.15588)\n"
     ]
    }
   ],
   "source": [
    "print(glc_c.name, glc_c.formula, glc_c.charge, glc_c.formula_weight)"
   ]
  },
  {
   "cell_type": "code",
   "execution_count": 5,
   "metadata": {},
   "outputs": [],
   "source": [
    "# D-Glucose 6-phosphate\n",
    "g6p_c = Metabolite('g6p_c')\n",
    "g6p_c.name = 'D-Glucose 6-phosphate'\n",
    "g6p_c.formula = 'C6H11O9P'\n",
    "g6p_c.charge=-2\n",
    "g6p_c.compartment = 'c'"
   ]
  },
  {
   "cell_type": "code",
   "execution_count": 6,
   "metadata": {},
   "outputs": [
    {
     "name": "stdout",
     "output_type": "stream",
     "text": [
      "('D-Glucose 6-phosphate', 'C6H11O9P', -2, 258.119901)\n"
     ]
    }
   ],
   "source": [
    "print(g6p_c.name, g6p_c.formula, g6p_c.charge, g6p_c.formula_weight)"
   ]
  },
  {
   "cell_type": "code",
   "execution_count": 7,
   "metadata": {},
   "outputs": [],
   "source": [
    "# D-fructose 6-phosphate\n",
    "f6p_c = Metabolite('f6p_c')\n",
    "f6p_c.name = 'D-Fructose 6-phosphate'\n",
    "f6p_c.formula = 'C6H11O9P'\n",
    "f6p_c.charge=-2\n",
    "f6p_c.compartment = 'c'"
   ]
  },
  {
   "cell_type": "code",
   "execution_count": 8,
   "metadata": {},
   "outputs": [
    {
     "name": "stdout",
     "output_type": "stream",
     "text": [
      "('D-Fructose 6-phosphate', 'C6H11O9P', -2, 258.119901)\n"
     ]
    }
   ],
   "source": [
    "print(f6p_c.name, f6p_c.formula, f6p_c.charge, f6p_c.formula_weight)"
   ]
  },
  {
   "cell_type": "code",
   "execution_count": 9,
   "metadata": {},
   "outputs": [],
   "source": [
    "# Add the remaining metabolites below:"
   ]
  },
  {
   "cell_type": "code",
   "execution_count": 10,
   "metadata": {},
   "outputs": [],
   "source": [
    "# SOLUTION:\n"
   ]
  },
  {
   "cell_type": "markdown",
   "metadata": {},
   "source": [
    "### Define Reactions:"
   ]
  },
  {
   "cell_type": "code",
   "execution_count": 11,
   "metadata": {},
   "outputs": [],
   "source": [
    "from cobra import Reaction"
   ]
  },
  {
   "cell_type": "code",
   "execution_count": 12,
   "metadata": {
    "scrolled": true
   },
   "outputs": [],
   "source": [
    "# Example: Glucose-6-phosphate isomerase\n",
    "PGI = Reaction('PGI')\n",
    "PGI.name = 'Glucose-6-phosphate isomerase'\n",
    "PGI.add_metabolites({g6p_c:-1,f6p_c:1})\n",
    "# PGI is reversible, so we need to set the lower_bound to -1000\n",
    "PGI.lower_bound=-1000"
   ]
  },
  {
   "cell_type": "code",
   "execution_count": 13,
   "metadata": {},
   "outputs": [
    {
     "name": "stdout",
     "output_type": "stream",
     "text": [
      "('PGI', 'Glucose-6-phosphate isomerase', 'g6p_c <=> f6p_c')\n"
     ]
    }
   ],
   "source": [
    "print (PGI.id, PGI.name, PGI.reaction)"
   ]
  },
  {
   "cell_type": "code",
   "execution_count": 14,
   "metadata": {},
   "outputs": [],
   "source": [
    "#Add the remaining reactions below:"
   ]
  },
  {
   "cell_type": "code",
   "execution_count": 15,
   "metadata": {},
   "outputs": [],
   "source": [
    "# SOLUTION:\n",
    "\n"
   ]
  },
  {
   "cell_type": "markdown",
   "metadata": {},
   "source": [
    "### Define GPRs:"
   ]
  },
  {
   "cell_type": "code",
   "execution_count": 16,
   "metadata": {},
   "outputs": [
    {
     "name": "stdout",
     "output_type": "stream",
     "text": [
      "b4025\n"
     ]
    }
   ],
   "source": [
    "# Example PGI is catalyzed by Glucose-6-phosphate isomerase (EC:5.3.1.9) encoded for by b4025\n",
    "PGI.gene_reaction_rule = 'b4025'\n",
    "print(PGI.gene_reaction_rule)"
   ]
  },
  {
   "cell_type": "code",
   "execution_count": 17,
   "metadata": {},
   "outputs": [],
   "source": [
    "# Add the remaining GPRs below:\n",
    "# TIP represent isozymes as: (Gene1 or Gene2), represent complexes as: (Gene1 and Gene2)"
   ]
  },
  {
   "cell_type": "code",
   "execution_count": 18,
   "metadata": {},
   "outputs": [],
   "source": [
    "# SOLUTION\n"
   ]
  },
  {
   "cell_type": "markdown",
   "metadata": {},
   "source": [
    "### Add completed reactions to a COBRA model"
   ]
  },
  {
   "cell_type": "code",
   "execution_count": 19,
   "metadata": {},
   "outputs": [],
   "source": [
    "from cobra import Model\n",
    "\n",
    "# First create a new model\n",
    "model = Model('Glycolysis')\n",
    "model.name = 'Model of Glycolysis in E. coli'"
   ]
  },
  {
   "cell_type": "code",
   "execution_count": 20,
   "metadata": {},
   "outputs": [],
   "source": [
    "# add PGI to our glycolysis model:\n",
    "model.add_reaction(PGI)\n",
    "\n",
    "# Note all metabolites and genes associated with the reactions are added as well"
   ]
  },
  {
   "cell_type": "code",
   "execution_count": 21,
   "metadata": {},
   "outputs": [],
   "source": [
    "# Add all reactions to the model..."
   ]
  },
  {
   "cell_type": "code",
   "execution_count": 23,
   "metadata": {},
   "outputs": [],
   "source": [
    "# SOLUTION:"
   ]
  },
  {
   "cell_type": "code",
   "execution_count": null,
   "metadata": {},
   "outputs": [],
   "source": [
    "for r in model.reactions:\n",
    "    print(r.id, r.gene_reaction_rule)\n",
    "# maybe remove PTS?"
   ]
  },
  {
   "cell_type": "markdown",
   "metadata": {},
   "source": [
    "### Model validation"
   ]
  },
  {
   "cell_type": "code",
   "execution_count": null,
   "metadata": {},
   "outputs": [],
   "source": [
    "# Check out model statistics\n",
    "print (model.name)\n",
    "print(('# Metabolites: %i, # Reactions: %i, # Genes: %i')%(len(model.metabolites), len(model.reactions), len(model.genes)))"
   ]
  },
  {
   "cell_type": "code",
   "execution_count": null,
   "metadata": {},
   "outputs": [],
   "source": [
    "# check that all reactions in the model are mass balanced:\n",
    "for r in model.reactions:\n",
    "    print (r, r.check_mass_balance())\n",
    "    if len(r.check_mass_balance())>0:\n",
    "        print ('\\terror %s is not mass balanced!'%r.id)"
   ]
  },
  {
   "cell_type": "markdown",
   "metadata": {},
   "source": [
    "### Save your model"
   ]
  },
  {
   "cell_type": "code",
   "execution_count": null,
   "metadata": {},
   "outputs": [],
   "source": [
    "from cobra.io import save_json_model"
   ]
  },
  {
   "cell_type": "code",
   "execution_count": null,
   "metadata": {},
   "outputs": [],
   "source": [
    "save_json_model(model,'glycolysis.json')"
   ]
  },
  {
   "cell_type": "code",
   "execution_count": null,
   "metadata": {},
   "outputs": [],
   "source": []
  }
 ],
 "metadata": {
  "anaconda-cloud": {},
  "kernelspec": {
   "display_name": "Python 2",
   "language": "python",
   "name": "python2"
  },
  "language_info": {
   "codemirror_mode": {
    "name": "ipython",
    "version": 2
   },
   "file_extension": ".py",
   "mimetype": "text/x-python",
   "name": "python",
   "nbconvert_exporter": "python",
   "pygments_lexer": "ipython2",
   "version": "2.7.15"
  }
 },
 "nbformat": 4,
 "nbformat_minor": 1
}
