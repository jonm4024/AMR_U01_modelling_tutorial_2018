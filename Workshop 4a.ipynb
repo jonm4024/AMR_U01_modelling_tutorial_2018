{
 "cells": [
  {
   "cell_type": "code",
   "execution_count": 15,
   "metadata": {},
   "outputs": [],
   "source": [
    "import cobra\n",
    "import pandas as pd\n",
    "%matplotlib inline\n",
    "import matplotlib\n",
    "import matplotlib.pyplot as plt\n",
    "from cobra.io import load_json_model\n",
    "model_file = 'iCN900_09062018.json'"
   ]
  },
  {
   "cell_type": "markdown",
   "metadata": {
    "collapsed": true
   },
   "source": [
    "### In this workshop we will use an unpublished version of the <i>C. diff</i> 630 model (iCN900). Please don't distribute!"
   ]
  },
  {
   "cell_type": "code",
   "execution_count": 16,
   "metadata": {},
   "outputs": [],
   "source": [
    "model = load_json_model(model_file)"
   ]
  },
  {
   "cell_type": "code",
   "execution_count": 17,
   "metadata": {},
   "outputs": [
    {
     "data": {
      "text/html": [
       "\n",
       "        <table>\n",
       "            <tr>\n",
       "                <td><strong>Name</strong></td>\n",
       "                <td>None</td>\n",
       "            </tr><tr>\n",
       "                <td><strong>Memory address</strong></td>\n",
       "                <td>0x012fa3898</td>\n",
       "            </tr><tr>\n",
       "                <td><strong>Number of metabolites</strong></td>\n",
       "                <td>874</td>\n",
       "            </tr><tr>\n",
       "                <td><strong>Number of reactions</strong></td>\n",
       "                <td>1216</td>\n",
       "            </tr><tr>\n",
       "                <td><strong>Objective expression</strong></td>\n",
       "                <td>1.0*BIOMASS - 1.0*BIOMASS_reverse_69053</td>\n",
       "            </tr><tr>\n",
       "                <td><strong>Compartments</strong></td>\n",
       "                <td>c, e</td>\n",
       "            </tr>\n",
       "          </table>"
      ],
      "text/plain": [
       "<Model None at 0x12fa3898>"
      ]
     },
     "execution_count": 17,
     "metadata": {},
     "output_type": "execute_result"
    }
   ],
   "source": [
    "# Model Summary:\n",
    "model"
   ]
  },
  {
   "cell_type": "markdown",
   "metadata": {},
   "source": [
    "### Knocking out a single reaction"
   ]
  },
  {
   "cell_type": "code",
   "execution_count": 18,
   "metadata": {},
   "outputs": [
    {
     "name": "stdout",
     "output_type": "stream",
     "text": [
      "(0, 1000)\n"
     ]
    }
   ],
   "source": [
    "# Reaction KO\n",
    "model = load_json_model(model_file)\n",
    "ASPK = model.reactions.get_by_id('ASPK')\n",
    "print(ASPK.lower_bound, ASPK.upper_bound)"
   ]
  },
  {
   "cell_type": "code",
   "execution_count": 19,
   "metadata": {},
   "outputs": [],
   "source": [
    "ASPK.lower_bound = 0\n",
    "ASPK.upper_bound = 0"
   ]
  },
  {
   "cell_type": "code",
   "execution_count": 20,
   "metadata": {
    "scrolled": true
   },
   "outputs": [
    {
     "name": "stdout",
     "output_type": "stream",
     "text": [
      "0.0\n"
     ]
    }
   ],
   "source": [
    "sol = model.optimize()\n",
    "print(sol.objective_value)"
   ]
  },
  {
   "cell_type": "markdown",
   "metadata": {
    "collapsed": true
   },
   "source": [
    "### Knocking out a single gene"
   ]
  },
  {
   "cell_type": "code",
   "execution_count": 21,
   "metadata": {},
   "outputs": [
    {
     "name": "stdout",
     "output_type": "stream",
     "text": [
      "(CD630_13220) or (CD630_20540) or (CD630_26270)\n",
      "frozenset([<Reaction ASPK at 0x14f65b00>])\n"
     ]
    }
   ],
   "source": [
    "print(ASPK.gene_reaction_rule)\n",
    "print(model.genes.CD630_13220.reactions)"
   ]
  },
  {
   "cell_type": "code",
   "execution_count": 22,
   "metadata": {},
   "outputs": [
    {
     "name": "stdout",
     "output_type": "stream",
     "text": [
      "0.21028281212\n"
     ]
    }
   ],
   "source": [
    "from cobra.manipulation import delete_model_genes\n",
    "model = load_json_model(model_file)\n",
    "delete_model_genes(model,['CD630_13220'])\n",
    "sol = model.optimize()\n",
    "print(sol.objective_value)"
   ]
  },
  {
   "cell_type": "markdown",
   "metadata": {},
   "source": [
    "# Genome scale gene knockouts"
   ]
  },
  {
   "cell_type": "code",
   "execution_count": 25,
   "metadata": {},
   "outputs": [],
   "source": [
    "model = load_json_model(model_file)\n",
    "from cobra.flux_analysis import single_gene_deletion"
   ]
  },
  {
   "cell_type": "code",
   "execution_count": 26,
   "metadata": {
    "scrolled": true
   },
   "outputs": [
    {
     "data": {
      "text/html": [
       "<div>\n",
       "<style scoped>\n",
       "    .dataframe tbody tr th:only-of-type {\n",
       "        vertical-align: middle;\n",
       "    }\n",
       "\n",
       "    .dataframe tbody tr th {\n",
       "        vertical-align: top;\n",
       "    }\n",
       "\n",
       "    .dataframe thead th {\n",
       "        text-align: right;\n",
       "    }\n",
       "</style>\n",
       "<table border=\"1\" class=\"dataframe\">\n",
       "  <thead>\n",
       "    <tr style=\"text-align: right;\">\n",
       "      <th></th>\n",
       "      <th>growth</th>\n",
       "      <th>status</th>\n",
       "    </tr>\n",
       "    <tr>\n",
       "      <th>ids</th>\n",
       "      <th></th>\n",
       "      <th></th>\n",
       "    </tr>\n",
       "  </thead>\n",
       "  <tbody>\n",
       "    <tr>\n",
       "      <th>(CD630_14460)</th>\n",
       "      <td>2.102828e-01</td>\n",
       "      <td>optimal</td>\n",
       "    </tr>\n",
       "    <tr>\n",
       "      <th>(CD630_07650)</th>\n",
       "      <td>2.102828e-01</td>\n",
       "      <td>optimal</td>\n",
       "    </tr>\n",
       "    <tr>\n",
       "      <th>(CD630_20850)</th>\n",
       "      <td>2.102828e-01</td>\n",
       "      <td>optimal</td>\n",
       "    </tr>\n",
       "    <tr>\n",
       "      <th>(CD630_16500)</th>\n",
       "      <td>2.102828e-01</td>\n",
       "      <td>optimal</td>\n",
       "    </tr>\n",
       "    <tr>\n",
       "      <th>(CD630_27340)</th>\n",
       "      <td>2.102828e-01</td>\n",
       "      <td>optimal</td>\n",
       "    </tr>\n",
       "    <tr>\n",
       "      <th>(CD630_35580)</th>\n",
       "      <td>2.102828e-01</td>\n",
       "      <td>optimal</td>\n",
       "    </tr>\n",
       "    <tr>\n",
       "      <th>(CD630_15430)</th>\n",
       "      <td>2.102828e-01</td>\n",
       "      <td>optimal</td>\n",
       "    </tr>\n",
       "    <tr>\n",
       "      <th>(CD630_21000)</th>\n",
       "      <td>2.102828e-01</td>\n",
       "      <td>optimal</td>\n",
       "    </tr>\n",
       "    <tr>\n",
       "      <th>(CD630_29900)</th>\n",
       "      <td>2.102828e-01</td>\n",
       "      <td>optimal</td>\n",
       "    </tr>\n",
       "    <tr>\n",
       "      <th>(CD630_05910)</th>\n",
       "      <td>2.102828e-01</td>\n",
       "      <td>optimal</td>\n",
       "    </tr>\n",
       "    <tr>\n",
       "      <th>(CD630_07260)</th>\n",
       "      <td>2.102828e-01</td>\n",
       "      <td>optimal</td>\n",
       "    </tr>\n",
       "    <tr>\n",
       "      <th>(CD630_23720)</th>\n",
       "      <td>2.102828e-01</td>\n",
       "      <td>optimal</td>\n",
       "    </tr>\n",
       "    <tr>\n",
       "      <th>(CD630_00380)</th>\n",
       "      <td>1.913303e-01</td>\n",
       "      <td>optimal</td>\n",
       "    </tr>\n",
       "    <tr>\n",
       "      <th>(CD630_28490)</th>\n",
       "      <td>2.102828e-01</td>\n",
       "      <td>optimal</td>\n",
       "    </tr>\n",
       "    <tr>\n",
       "      <th>(CD630_05570)</th>\n",
       "      <td>2.099323e-01</td>\n",
       "      <td>optimal</td>\n",
       "    </tr>\n",
       "    <tr>\n",
       "      <th>(CD630_04310)</th>\n",
       "      <td>2.102828e-01</td>\n",
       "      <td>optimal</td>\n",
       "    </tr>\n",
       "    <tr>\n",
       "      <th>(CD630_10580)</th>\n",
       "      <td>2.102828e-01</td>\n",
       "      <td>optimal</td>\n",
       "    </tr>\n",
       "    <tr>\n",
       "      <th>(CD630_35370)</th>\n",
       "      <td>2.102828e-01</td>\n",
       "      <td>optimal</td>\n",
       "    </tr>\n",
       "    <tr>\n",
       "      <th>(CD630_04440)</th>\n",
       "      <td>2.050599e-01</td>\n",
       "      <td>optimal</td>\n",
       "    </tr>\n",
       "    <tr>\n",
       "      <th>(CD630_32620)</th>\n",
       "      <td>2.102828e-01</td>\n",
       "      <td>optimal</td>\n",
       "    </tr>\n",
       "    <tr>\n",
       "      <th>(CD630_20200)</th>\n",
       "      <td>2.102828e-01</td>\n",
       "      <td>optimal</td>\n",
       "    </tr>\n",
       "    <tr>\n",
       "      <th>(CD630_28340)</th>\n",
       "      <td>2.102828e-01</td>\n",
       "      <td>optimal</td>\n",
       "    </tr>\n",
       "    <tr>\n",
       "      <th>(CD630_28820)</th>\n",
       "      <td>2.102828e-01</td>\n",
       "      <td>optimal</td>\n",
       "    </tr>\n",
       "    <tr>\n",
       "      <th>(CD630_03960)</th>\n",
       "      <td>2.102828e-01</td>\n",
       "      <td>optimal</td>\n",
       "    </tr>\n",
       "    <tr>\n",
       "      <th>(CD630_18200)</th>\n",
       "      <td>2.102528e-01</td>\n",
       "      <td>optimal</td>\n",
       "    </tr>\n",
       "    <tr>\n",
       "      <th>(CD630_34670)</th>\n",
       "      <td>2.102828e-01</td>\n",
       "      <td>optimal</td>\n",
       "    </tr>\n",
       "    <tr>\n",
       "      <th>(CD630_34280)</th>\n",
       "      <td>2.102828e-01</td>\n",
       "      <td>optimal</td>\n",
       "    </tr>\n",
       "    <tr>\n",
       "      <th>(CD630_01350)</th>\n",
       "      <td>2.102828e-01</td>\n",
       "      <td>optimal</td>\n",
       "    </tr>\n",
       "    <tr>\n",
       "      <th>(CD630_02230)</th>\n",
       "      <td>2.102828e-01</td>\n",
       "      <td>optimal</td>\n",
       "    </tr>\n",
       "    <tr>\n",
       "      <th>(CD630_36300)</th>\n",
       "      <td>2.102828e-01</td>\n",
       "      <td>optimal</td>\n",
       "    </tr>\n",
       "    <tr>\n",
       "      <th>...</th>\n",
       "      <td>...</td>\n",
       "      <td>...</td>\n",
       "    </tr>\n",
       "    <tr>\n",
       "      <th>(CD630_30690)</th>\n",
       "      <td>2.102828e-01</td>\n",
       "      <td>optimal</td>\n",
       "    </tr>\n",
       "    <tr>\n",
       "      <th>(CD630_0176)</th>\n",
       "      <td>2.102828e-01</td>\n",
       "      <td>optimal</td>\n",
       "    </tr>\n",
       "    <tr>\n",
       "      <th>(CD630_24910)</th>\n",
       "      <td>2.102828e-01</td>\n",
       "      <td>optimal</td>\n",
       "    </tr>\n",
       "    <tr>\n",
       "      <th>(CD630_19660)</th>\n",
       "      <td>5.431862e-17</td>\n",
       "      <td>optimal</td>\n",
       "    </tr>\n",
       "    <tr>\n",
       "      <th>(CD630_23300)</th>\n",
       "      <td>2.102828e-01</td>\n",
       "      <td>optimal</td>\n",
       "    </tr>\n",
       "    <tr>\n",
       "      <th>(CD630_23190)</th>\n",
       "      <td>2.102828e-01</td>\n",
       "      <td>optimal</td>\n",
       "    </tr>\n",
       "    <tr>\n",
       "      <th>(CD630_31240)</th>\n",
       "      <td>2.102828e-01</td>\n",
       "      <td>optimal</td>\n",
       "    </tr>\n",
       "    <tr>\n",
       "      <th>(CD630_04490)</th>\n",
       "      <td>2.102828e-01</td>\n",
       "      <td>optimal</td>\n",
       "    </tr>\n",
       "    <tr>\n",
       "      <th>(CD630_10620)</th>\n",
       "      <td>2.102828e-01</td>\n",
       "      <td>optimal</td>\n",
       "    </tr>\n",
       "    <tr>\n",
       "      <th>(CD630_36470)</th>\n",
       "      <td>2.102828e-01</td>\n",
       "      <td>optimal</td>\n",
       "    </tr>\n",
       "    <tr>\n",
       "      <th>(CD630_23820)</th>\n",
       "      <td>2.102828e-01</td>\n",
       "      <td>optimal</td>\n",
       "    </tr>\n",
       "    <tr>\n",
       "      <th>(CD630_24320)</th>\n",
       "      <td>2.102828e-01</td>\n",
       "      <td>optimal</td>\n",
       "    </tr>\n",
       "    <tr>\n",
       "      <th>(CD630_23560)</th>\n",
       "      <td>2.102828e-01</td>\n",
       "      <td>optimal</td>\n",
       "    </tr>\n",
       "    <tr>\n",
       "      <th>(CD630_24950)</th>\n",
       "      <td>2.102828e-01</td>\n",
       "      <td>optimal</td>\n",
       "    </tr>\n",
       "    <tr>\n",
       "      <th>(CD630_12610)</th>\n",
       "      <td>2.102828e-01</td>\n",
       "      <td>optimal</td>\n",
       "    </tr>\n",
       "    <tr>\n",
       "      <th>(CD630_27330)</th>\n",
       "      <td>2.102828e-01</td>\n",
       "      <td>optimal</td>\n",
       "    </tr>\n",
       "    <tr>\n",
       "      <th>(CD630_34720)</th>\n",
       "      <td>2.102828e-01</td>\n",
       "      <td>optimal</td>\n",
       "    </tr>\n",
       "    <tr>\n",
       "      <th>(CD630_27440)</th>\n",
       "      <td>2.102828e-01</td>\n",
       "      <td>optimal</td>\n",
       "    </tr>\n",
       "    <tr>\n",
       "      <th>(CD630_17000)</th>\n",
       "      <td>2.102828e-01</td>\n",
       "      <td>optimal</td>\n",
       "    </tr>\n",
       "    <tr>\n",
       "      <th>(CD630_26540)</th>\n",
       "      <td>2.102828e-01</td>\n",
       "      <td>optimal</td>\n",
       "    </tr>\n",
       "    <tr>\n",
       "      <th>(CD630_24100)</th>\n",
       "      <td>2.102828e-01</td>\n",
       "      <td>optimal</td>\n",
       "    </tr>\n",
       "    <tr>\n",
       "      <th>(CD630_14510)</th>\n",
       "      <td>2.102828e-01</td>\n",
       "      <td>optimal</td>\n",
       "    </tr>\n",
       "    <tr>\n",
       "      <th>(CD630_01860)</th>\n",
       "      <td>2.102828e-01</td>\n",
       "      <td>optimal</td>\n",
       "    </tr>\n",
       "    <tr>\n",
       "      <th>(CD630_15530)</th>\n",
       "      <td>2.102828e-01</td>\n",
       "      <td>optimal</td>\n",
       "    </tr>\n",
       "    <tr>\n",
       "      <th>(CD630_31360)</th>\n",
       "      <td>2.102828e-01</td>\n",
       "      <td>optimal</td>\n",
       "    </tr>\n",
       "    <tr>\n",
       "      <th>(CD630_34060)</th>\n",
       "      <td>1.991165e-01</td>\n",
       "      <td>optimal</td>\n",
       "    </tr>\n",
       "    <tr>\n",
       "      <th>(CD630_03450)</th>\n",
       "      <td>2.102828e-01</td>\n",
       "      <td>optimal</td>\n",
       "    </tr>\n",
       "    <tr>\n",
       "      <th>(CD630_02180)</th>\n",
       "      <td>2.102828e-01</td>\n",
       "      <td>optimal</td>\n",
       "    </tr>\n",
       "    <tr>\n",
       "      <th>(CD630_01550)</th>\n",
       "      <td>2.086668e-01</td>\n",
       "      <td>optimal</td>\n",
       "    </tr>\n",
       "    <tr>\n",
       "      <th>(CD630_30130)</th>\n",
       "      <td>2.102828e-01</td>\n",
       "      <td>optimal</td>\n",
       "    </tr>\n",
       "  </tbody>\n",
       "</table>\n",
       "<p>900 rows × 2 columns</p>\n",
       "</div>"
      ],
      "text/plain": [
       "                     growth   status\n",
       "ids                                 \n",
       "(CD630_14460)  2.102828e-01  optimal\n",
       "(CD630_07650)  2.102828e-01  optimal\n",
       "(CD630_20850)  2.102828e-01  optimal\n",
       "(CD630_16500)  2.102828e-01  optimal\n",
       "(CD630_27340)  2.102828e-01  optimal\n",
       "(CD630_35580)  2.102828e-01  optimal\n",
       "(CD630_15430)  2.102828e-01  optimal\n",
       "(CD630_21000)  2.102828e-01  optimal\n",
       "(CD630_29900)  2.102828e-01  optimal\n",
       "(CD630_05910)  2.102828e-01  optimal\n",
       "(CD630_07260)  2.102828e-01  optimal\n",
       "(CD630_23720)  2.102828e-01  optimal\n",
       "(CD630_00380)  1.913303e-01  optimal\n",
       "(CD630_28490)  2.102828e-01  optimal\n",
       "(CD630_05570)  2.099323e-01  optimal\n",
       "(CD630_04310)  2.102828e-01  optimal\n",
       "(CD630_10580)  2.102828e-01  optimal\n",
       "(CD630_35370)  2.102828e-01  optimal\n",
       "(CD630_04440)  2.050599e-01  optimal\n",
       "(CD630_32620)  2.102828e-01  optimal\n",
       "(CD630_20200)  2.102828e-01  optimal\n",
       "(CD630_28340)  2.102828e-01  optimal\n",
       "(CD630_28820)  2.102828e-01  optimal\n",
       "(CD630_03960)  2.102828e-01  optimal\n",
       "(CD630_18200)  2.102528e-01  optimal\n",
       "(CD630_34670)  2.102828e-01  optimal\n",
       "(CD630_34280)  2.102828e-01  optimal\n",
       "(CD630_01350)  2.102828e-01  optimal\n",
       "(CD630_02230)  2.102828e-01  optimal\n",
       "(CD630_36300)  2.102828e-01  optimal\n",
       "...                     ...      ...\n",
       "(CD630_30690)  2.102828e-01  optimal\n",
       "(CD630_0176)   2.102828e-01  optimal\n",
       "(CD630_24910)  2.102828e-01  optimal\n",
       "(CD630_19660)  5.431862e-17  optimal\n",
       "(CD630_23300)  2.102828e-01  optimal\n",
       "(CD630_23190)  2.102828e-01  optimal\n",
       "(CD630_31240)  2.102828e-01  optimal\n",
       "(CD630_04490)  2.102828e-01  optimal\n",
       "(CD630_10620)  2.102828e-01  optimal\n",
       "(CD630_36470)  2.102828e-01  optimal\n",
       "(CD630_23820)  2.102828e-01  optimal\n",
       "(CD630_24320)  2.102828e-01  optimal\n",
       "(CD630_23560)  2.102828e-01  optimal\n",
       "(CD630_24950)  2.102828e-01  optimal\n",
       "(CD630_12610)  2.102828e-01  optimal\n",
       "(CD630_27330)  2.102828e-01  optimal\n",
       "(CD630_34720)  2.102828e-01  optimal\n",
       "(CD630_27440)  2.102828e-01  optimal\n",
       "(CD630_17000)  2.102828e-01  optimal\n",
       "(CD630_26540)  2.102828e-01  optimal\n",
       "(CD630_24100)  2.102828e-01  optimal\n",
       "(CD630_14510)  2.102828e-01  optimal\n",
       "(CD630_01860)  2.102828e-01  optimal\n",
       "(CD630_15530)  2.102828e-01  optimal\n",
       "(CD630_31360)  2.102828e-01  optimal\n",
       "(CD630_34060)  1.991165e-01  optimal\n",
       "(CD630_03450)  2.102828e-01  optimal\n",
       "(CD630_02180)  2.102828e-01  optimal\n",
       "(CD630_01550)  2.086668e-01  optimal\n",
       "(CD630_30130)  2.102828e-01  optimal\n",
       "\n",
       "[900 rows x 2 columns]"
      ]
     },
     "execution_count": 26,
     "metadata": {},
     "output_type": "execute_result"
    }
   ],
   "source": [
    "res= single_gene_deletion(model)\n",
    "res"
   ]
  },
  {
   "cell_type": "code",
   "execution_count": 28,
   "metadata": {},
   "outputs": [
    {
     "data": {
      "image/png": "[encoded data removed]",
      "text/plain": [
       "<Figure size 1008x288 with 1 Axes>"
      ]
     },
     "metadata": {},
     "output_type": "display_data"
    }
   ],
   "source": [
    "res = res.sort_values('growth')\n",
    "res.plot(kind='bar',figsize=(14,4))\n",
    "plt.show()"
   ]
  },
  {
   "cell_type": "code",
   "execution_count": 1,
   "metadata": {},
   "outputs": [],
   "source": [
    "# NOW check gene essentiality on some of the the carbon sources from our last workshop: \n",
    "# fru, etoh, ac, gln-L, glu-L, akg, succ, fum, mal-L:"
   ]
  },
  {
   "cell_type": "code",
   "execution_count": null,
   "metadata": {},
   "outputs": [],
   "source": [
    "#Solution:"
   ]
  }
 ],
 "metadata": {
  "anaconda-cloud": {},
  "kernelspec": {
   "display_name": "Python 2",
   "language": "python",
   "name": "python2"
  },
  "language_info": {
   "codemirror_mode": {
    "name": "ipython",
    "version": 2
   },
   "file_extension": ".py",
   "mimetype": "text/x-python",
   "name": "python",
   "nbconvert_exporter": "python",
   "pygments_lexer": "ipython2",
   "version": "2.7.15"
  }
 },
 "nbformat": 4,
 "nbformat_minor": 1
}
